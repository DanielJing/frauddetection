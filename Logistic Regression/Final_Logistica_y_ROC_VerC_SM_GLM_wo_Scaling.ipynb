{
 "cells": [
  {
   "cell_type": "markdown",
   "metadata": {},
   "source": [
    "# Logistic Regression Primer\n",
    "\n",
    "Logistic Regression applies a regression methodology with Logistic Function (Sigmoid Function) to conduct a binary classification analysis.\n",
    "\n",
    "It may sound oxymoronic to suggest a regression model for classification analysis. Despite its paradoxical name, it has solid real-life applications. Here is how.\n",
    "\n",
    "While the dependent variable of linear regression is unbounded, Logistic Function (Logistic Function (Sigmoid Function)) projects a bounded mapping of a continuous variable of an infinite range (-∞, ∞) into a bounded range within (0, 1): positive values between 0 and 1. Since the bounded range corresponds to the range of the probability, the regression result can be interpreted as the probability of an event. And using a probabilistic threshold, we can project the probability outputs into a Bernoulli variable, which represents two classes of the results of a binary classification. This is the reason why this method has a confusing name: a regression model for a binary classification application. \n",
    "Now, we have a classification objective of the binary loan statuses: non-default and default. Now, we assign Bernoulli variable, class 0 and class 1, to non-default and default statuses respectively in the binary classification objective. Let Y denote the probability of being in class 1 (default case). \n",
    "\n",
    "As a precaution, Y is not the ultimate goal that we want to predict, which is a binary classification. We need to set a probabilistic threshold to map Y to the Bernoulli variable, V consisting of class 0 or class 1. V is our ultimate objective. Y is an intermediary product of the Logistic Regression.\n",
    "\n",
    "Now, the higher the value of Y, the more chance of default; the lower the value of Y, the lower chance of default.\n",
    "Odds of being in class 1 as opposed to class 0 can be calculated as:\n",
    "> Y/(1-Y)\n",
    "\n",
    "Logistic regression measures the logarithm of the odds and plugs in the dependent variable in the linear regression formula as below. \n",
    "> ln⁡[  Y/(1-Y)  ]=w*X+b\n",
    "\n",
    "We can transform this equation as follows.\n",
    "> Y =  e^z/(1+ e^z )=   1/(1+ e^(-z) ),where z=w*X+b \n",
    "\n",
    "This is called Logistic Function (Sigmoid Function), σ(z). Therefore, Y can be described by Logistic Function (Sigmoid Function) as follows.\n",
    "\n",
    ">Y = σ(w*X+b)\n",
    "\n",
    "> “In the case of the logistic regression model, it is not appropriate to apply the method of least squares that is used in linear regression. Using the fact that the variable Y has a known (binomial) distribution, the parameters are estimated with the maximum likelihood method.\n",
    "It is not possible to give an algebraic expression for the estimators of the parameters. The estimators are obtained by iteratively solving a system of equations, called maximum likelihood equations.” (Girimonte, n.d., p. 3)\n",
    "\n",
    "That’s a quick summary of the theoretical profile of Logistic Function (Sigmoid Function). \n"
   ]
  },
  {
   "cell_type": "code",
   "execution_count": null,
   "metadata": {
    "id": "vbgQhZd0KFyV"
   },
   "outputs": [],
   "source": [
    "# import tensorflow as tf\n",
    "# from tensorflow import keras\n",
    "\n",
    "# import os\n",
    "# import tempfile\n",
    "\n",
    "import matplotlib as mpl\n",
    "import matplotlib.pyplot as plt\n",
    "import numpy as np\n",
    "import pandas as pd\n",
    "import seaborn as sns\n",
    "\n",
    "import sklearn\n",
    "from sklearn.metrics import confusion_matrix\n",
    "from sklearn.model_selection import train_test_split\n",
    "\n",
    "from sklearn.compose import ColumnTransformer\n",
    "from sklearn.preprocessing import StandardScaler\n",
    "\n",
    "from sklearn.linear_model import LogisticRegression\n",
    "from sklearn.metrics import classification_report, confusion_matrix\n",
    "\n",
    "from sklearn.metrics import roc_curve, auc\n",
    "from sklearn.metrics import roc_auc_score\n",
    "\n",
    "\n"
   ]
  },
  {
   "cell_type": "code",
   "execution_count": null,
   "metadata": {
    "id": "OSn4aXoCKFyW"
   },
   "outputs": [],
   "source": [
    "%matplotlib inline"
   ]
  },
  {
   "cell_type": "markdown",
   "metadata": {
    "id": "AqDT3upUKFyX"
   },
   "source": [
    "## 01 Dataset\n",
    "\n",
    "The default historical dataset is obtained from the source in the link below.\n",
    "- Source: https://r-data.pmagunia.com/dataset/r-dataset-package-islr-default#:~:text=The%20Default%20data%20set%20is,into%20a%20variable%20called%20Default.\n",
    "- Dataset link: https://r-data.pmagunia.com/system/files/datasets/dataset-63314.csv\n"
   ]
  },
  {
   "cell_type": "code",
   "execution_count": null,
   "metadata": {
    "id": "jPnPWEygKFyY"
   },
   "outputs": [],
   "source": [
    "df_original = pd.read_csv('https://r-data.pmagunia.com/system/files/datasets/dataset-63314.csv')"
   ]
  },
  {
   "cell_type": "code",
   "execution_count": null,
   "metadata": {
    "id": "iYIdNbDQKFyZ"
   },
   "outputs": [],
   "source": [
    "df=df_original.copy()"
   ]
  },
  {
   "cell_type": "code",
   "execution_count": null,
   "metadata": {
    "id": "45YA5VymKFyZ",
    "outputId": "9d11103e-0b6f-4bc4-d069-e2d0b0e10e4b"
   },
   "outputs": [
    {
     "data": {
      "text/plain": [
       "pandas.core.frame.DataFrame"
      ]
     },
     "execution_count": 5,
     "metadata": {},
     "output_type": "execute_result"
    }
   ],
   "source": [
    "type(df)"
   ]
  },
  {
   "cell_type": "code",
   "execution_count": null,
   "metadata": {
    "id": "Rhcef3YmKFya",
    "outputId": "6de1a7a9-b427-4a86-e0a8-f0b5e28e8caf"
   },
   "outputs": [
    {
     "data": {
      "text/plain": [
       "(10000, 4)"
      ]
     },
     "execution_count": 6,
     "metadata": {},
     "output_type": "execute_result"
    }
   ],
   "source": [
    "df.shape"
   ]
  },
  {
   "cell_type": "code",
   "execution_count": null,
   "metadata": {
    "id": "hLezrHcCKFya",
    "outputId": "cb8df678-7f57-499b-e008-72feec0abb91"
   },
   "outputs": [
    {
     "data": {
      "text/html": [
       "<div>\n",
       "<style scoped>\n",
       "    .dataframe tbody tr th:only-of-type {\n",
       "        vertical-align: middle;\n",
       "    }\n",
       "\n",
       "    .dataframe tbody tr th {\n",
       "        vertical-align: top;\n",
       "    }\n",
       "\n",
       "    .dataframe thead th {\n",
       "        text-align: right;\n",
       "    }\n",
       "</style>\n",
       "<table border=\"1\" class=\"dataframe\">\n",
       "  <thead>\n",
       "    <tr style=\"text-align: right;\">\n",
       "      <th></th>\n",
       "      <th>default</th>\n",
       "      <th>student</th>\n",
       "      <th>balance</th>\n",
       "      <th>income</th>\n",
       "    </tr>\n",
       "  </thead>\n",
       "  <tbody>\n",
       "    <tr>\n",
       "      <th>0</th>\n",
       "      <td>No</td>\n",
       "      <td>No</td>\n",
       "      <td>729.526495</td>\n",
       "      <td>44361.625074</td>\n",
       "    </tr>\n",
       "    <tr>\n",
       "      <th>1</th>\n",
       "      <td>No</td>\n",
       "      <td>Yes</td>\n",
       "      <td>817.180407</td>\n",
       "      <td>12106.134700</td>\n",
       "    </tr>\n",
       "    <tr>\n",
       "      <th>2</th>\n",
       "      <td>No</td>\n",
       "      <td>No</td>\n",
       "      <td>1073.549164</td>\n",
       "      <td>31767.138947</td>\n",
       "    </tr>\n",
       "    <tr>\n",
       "      <th>3</th>\n",
       "      <td>No</td>\n",
       "      <td>No</td>\n",
       "      <td>529.250605</td>\n",
       "      <td>35704.493935</td>\n",
       "    </tr>\n",
       "    <tr>\n",
       "      <th>4</th>\n",
       "      <td>No</td>\n",
       "      <td>No</td>\n",
       "      <td>785.655883</td>\n",
       "      <td>38463.495879</td>\n",
       "    </tr>\n",
       "  </tbody>\n",
       "</table>\n",
       "</div>"
      ],
      "text/plain": [
       "  default student      balance        income\n",
       "0      No      No   729.526495  44361.625074\n",
       "1      No     Yes   817.180407  12106.134700\n",
       "2      No      No  1073.549164  31767.138947\n",
       "3      No      No   529.250605  35704.493935\n",
       "4      No      No   785.655883  38463.495879"
      ]
     },
     "execution_count": 7,
     "metadata": {},
     "output_type": "execute_result"
    }
   ],
   "source": [
    "df.head(5)"
   ]
  },
  {
   "cell_type": "markdown",
   "metadata": {
    "id": "cZWyrts6KFya"
   },
   "source": [
    "## 02 Data Preprocessing\n",
    "\n"
   ]
  },
  {
   "cell_type": "markdown",
   "metadata": {
    "id": "HIugFCYbKFyb"
   },
   "source": [
    "### 02.a Check Missing Values\n"
   ]
  },
  {
   "cell_type": "code",
   "execution_count": null,
   "metadata": {
    "id": "NLYZa8wfKFyb",
    "outputId": "5b761ad6-7434-47c3-a14b-2ae95c866a33",
    "scrolled": true
   },
   "outputs": [
    {
     "data": {
      "text/plain": [
       "default    0\n",
       "student    0\n",
       "balance    0\n",
       "income     0\n",
       "dtype: int64"
      ]
     },
     "execution_count": 8,
     "metadata": {},
     "output_type": "execute_result"
    }
   ],
   "source": [
    "df.isnull().sum()"
   ]
  },
  {
   "cell_type": "markdown",
   "metadata": {
    "id": "do0e4uS8KFyb"
   },
   "source": [
    "### 02.b Check the Distribution of Data\n"
   ]
  },
  {
   "cell_type": "code",
   "execution_count": null,
   "metadata": {
    "id": "xslqmvz1KFyb",
    "outputId": "baeb3339-0af8-465f-c540-ddd4935017f4",
    "scrolled": false
   },
   "outputs": [
    {
     "data": {
      "text/html": [
       "<div>\n",
       "<style scoped>\n",
       "    .dataframe tbody tr th:only-of-type {\n",
       "        vertical-align: middle;\n",
       "    }\n",
       "\n",
       "    .dataframe tbody tr th {\n",
       "        vertical-align: top;\n",
       "    }\n",
       "\n",
       "    .dataframe thead th {\n",
       "        text-align: right;\n",
       "    }\n",
       "</style>\n",
       "<table border=\"1\" class=\"dataframe\">\n",
       "  <thead>\n",
       "    <tr style=\"text-align: right;\">\n",
       "      <th></th>\n",
       "      <th>balance</th>\n",
       "      <th>income</th>\n",
       "    </tr>\n",
       "  </thead>\n",
       "  <tbody>\n",
       "    <tr>\n",
       "      <th>count</th>\n",
       "      <td>10000.000000</td>\n",
       "      <td>10000.000000</td>\n",
       "    </tr>\n",
       "    <tr>\n",
       "      <th>mean</th>\n",
       "      <td>835.374886</td>\n",
       "      <td>33516.981876</td>\n",
       "    </tr>\n",
       "    <tr>\n",
       "      <th>std</th>\n",
       "      <td>483.714985</td>\n",
       "      <td>13336.639563</td>\n",
       "    </tr>\n",
       "    <tr>\n",
       "      <th>min</th>\n",
       "      <td>0.000000</td>\n",
       "      <td>771.967729</td>\n",
       "    </tr>\n",
       "    <tr>\n",
       "      <th>25%</th>\n",
       "      <td>481.731105</td>\n",
       "      <td>21340.462903</td>\n",
       "    </tr>\n",
       "    <tr>\n",
       "      <th>50%</th>\n",
       "      <td>823.636973</td>\n",
       "      <td>34552.644802</td>\n",
       "    </tr>\n",
       "    <tr>\n",
       "      <th>75%</th>\n",
       "      <td>1166.308386</td>\n",
       "      <td>43807.729272</td>\n",
       "    </tr>\n",
       "    <tr>\n",
       "      <th>max</th>\n",
       "      <td>2654.322576</td>\n",
       "      <td>73554.233495</td>\n",
       "    </tr>\n",
       "  </tbody>\n",
       "</table>\n",
       "</div>"
      ],
      "text/plain": [
       "            balance        income\n",
       "count  10000.000000  10000.000000\n",
       "mean     835.374886  33516.981876\n",
       "std      483.714985  13336.639563\n",
       "min        0.000000    771.967729\n",
       "25%      481.731105  21340.462903\n",
       "50%      823.636973  34552.644802\n",
       "75%     1166.308386  43807.729272\n",
       "max     2654.322576  73554.233495"
      ]
     },
     "execution_count": 9,
     "metadata": {},
     "output_type": "execute_result"
    }
   ],
   "source": [
    "df.describe()"
   ]
  },
  {
   "cell_type": "code",
   "execution_count": null,
   "metadata": {
    "id": "P9LWTVQpKFyc",
    "outputId": "9568ecc9-fc8b-4ae6-fa22-efd4209f2dc0",
    "scrolled": true
   },
   "outputs": [
    {
     "data": {
      "text/plain": [
       "<AxesSubplot:>"
      ]
     },
     "execution_count": 10,
     "metadata": {},
     "output_type": "execute_result"
    },
    {
     "data": {
      "image/png": "[encoded data removed]",
      "text/plain": [
       "<Figure size 640x480 with 1 Axes>"
      ]
     },
     "metadata": {},
     "output_type": "display_data"
    }
   ],
   "source": [
    "df['default'].value_counts().plot.bar()"
   ]
  },
  {
   "cell_type": "code",
   "execution_count": null,
   "metadata": {
    "id": "OBt6p5UwKFyc",
    "outputId": "666d3a45-b107-4f09-c014-b4e5adcbcecf",
    "scrolled": true
   },
   "outputs": [
    {
     "data": {
      "text/plain": [
       "<AxesSubplot:>"
      ]
     },
     "execution_count": 11,
     "metadata": {},
     "output_type": "execute_result"
    },
    {
     "data": {
      "image/png": "[encoded data removed]",
      "text/plain": [
       "<Figure size 640x480 with 1 Axes>"
      ]
     },
     "metadata": {},
     "output_type": "display_data"
    }
   ],
   "source": [
    "df['student'].value_counts().plot.bar()"
   ]
  },
  {
   "cell_type": "code",
   "execution_count": null,
   "metadata": {
    "id": "EUTlh8o5KFyc",
    "outputId": "5ac7ad36-3988-4d96-8756-7237871b4216",
    "scrolled": true
   },
   "outputs": [
    {
     "data": {
      "image/png": "[encoded data removed]",
      "text/plain": [
       "<Figure size 640x480 with 1 Axes>"
      ]
     },
     "metadata": {},
     "output_type": "display_data"
    }
   ],
   "source": [
    "sns.kdeplot(df['balance'],shade=True)\n",
    "plt.show()"
   ]
  },
  {
   "cell_type": "code",
   "execution_count": null,
   "metadata": {
    "id": "scad-EfjKFyd",
    "outputId": "3c2cd7c1-2036-4476-cb59-10de38bf870f",
    "scrolled": true
   },
   "outputs": [
    {
     "data": {
      "image/png": "[encoded data removed]",
      "text/plain": [
       "<Figure size 640x480 with 1 Axes>"
      ]
     },
     "metadata": {},
     "output_type": "display_data"
    }
   ],
   "source": [
    "sns.kdeplot(df['income'],shade=True)\n",
    "plt.show()"
   ]
  },
  {
   "cell_type": "markdown",
   "metadata": {
    "id": "EX_Vk2ykKFyd"
   },
   "source": [
    "### 02.c Transform Categorical Data into Numeric Data"
   ]
  },
  {
   "cell_type": "code",
   "execution_count": null,
   "metadata": {
    "id": "z6GVU-DfKFyd",
    "outputId": "4900f587-fc0d-4e1f-aac8-ffa5688c0fc9"
   },
   "outputs": [
    {
     "data": {
      "text/plain": [
       "array(['No', 'Yes'], dtype=object)"
      ]
     },
     "execution_count": 14,
     "metadata": {},
     "output_type": "execute_result"
    }
   ],
   "source": [
    "default=df['default'].unique()\n",
    "default"
   ]
  },
  {
   "cell_type": "code",
   "execution_count": null,
   "metadata": {
    "id": "ZGobu-Y_KFyd",
    "outputId": "1ed63904-cf91-4d4c-b62c-2dd1fa23b7a2"
   },
   "outputs": [
    {
     "data": {
      "text/plain": [
       "array([0, 1], dtype=int64)"
      ]
     },
     "execution_count": 15,
     "metadata": {},
     "output_type": "execute_result"
    }
   ],
   "source": [
    "df['default'].replace(to_replace=default, value=[0, 1], inplace=True)\n",
    "df['default'].unique()"
   ]
  },
  {
   "cell_type": "code",
   "execution_count": null,
   "metadata": {
    "id": "HDStWTcCKFye",
    "outputId": "d85c3ac6-d6bd-42b6-d2cb-06517494b60b"
   },
   "outputs": [
    {
     "data": {
      "text/plain": [
       "0    0\n",
       "1    0\n",
       "2    0\n",
       "3    0\n",
       "4    0\n",
       "Name: default, dtype: int64"
      ]
     },
     "execution_count": 16,
     "metadata": {},
     "output_type": "execute_result"
    }
   ],
   "source": [
    "df['default'].head()"
   ]
  },
  {
   "cell_type": "code",
   "execution_count": null,
   "metadata": {
    "id": "hAYFfUqGKFye",
    "outputId": "68970b02-629b-4245-cc57-39e28c1c7694",
    "scrolled": true
   },
   "outputs": [
    {
     "data": {
      "text/plain": [
       "array(['No', 'Yes'], dtype=object)"
      ]
     },
     "execution_count": 17,
     "metadata": {},
     "output_type": "execute_result"
    }
   ],
   "source": [
    "df['student'].unique()"
   ]
  },
  {
   "cell_type": "code",
   "execution_count": null,
   "metadata": {
    "id": "07G2hIvrKFye",
    "outputId": "db464378-1225-4de7-a07f-47edb8484d5b"
   },
   "outputs": [
    {
     "data": {
      "text/plain": [
       "0     No\n",
       "1    Yes\n",
       "2     No\n",
       "3     No\n",
       "4     No\n",
       "Name: student, dtype: object"
      ]
     },
     "execution_count": 18,
     "metadata": {},
     "output_type": "execute_result"
    }
   ],
   "source": [
    "df['student'].head()"
   ]
  },
  {
   "cell_type": "code",
   "execution_count": null,
   "metadata": {
    "id": "9YwvCcR_KFye",
    "outputId": "863cefd0-3b49-4704-a445-efb1e2f50efc",
    "scrolled": true
   },
   "outputs": [
    {
     "data": {
      "text/plain": [
       "array([0, 1], dtype=int64)"
      ]
     },
     "execution_count": 19,
     "metadata": {},
     "output_type": "execute_result"
    }
   ],
   "source": [
    "df['student'].replace(to_replace=default, value=[0, 1], inplace=True)\n",
    "df['student'].unique()"
   ]
  },
  {
   "cell_type": "code",
   "execution_count": null,
   "metadata": {
    "id": "cvGKJKDAKFyf",
    "outputId": "242dc4e8-da78-4f76-951f-cda704e04e90"
   },
   "outputs": [
    {
     "data": {
      "text/plain": [
       "0    0\n",
       "1    1\n",
       "2    0\n",
       "3    0\n",
       "4    0\n",
       "Name: student, dtype: int64"
      ]
     },
     "execution_count": 20,
     "metadata": {},
     "output_type": "execute_result"
    }
   ],
   "source": [
    "df['student'].head()"
   ]
  },
  {
   "cell_type": "markdown",
   "metadata": {
    "id": "jhyNUeBlKFyf"
   },
   "source": [
    "### 02.d Data Split\n",
    "\n",
    "Use `train_test_split()` from sklearn to split and shuffle your dataset."
   ]
  },
  {
   "cell_type": "code",
   "execution_count": null,
   "metadata": {
    "id": "KVqI9dEOKFyf"
   },
   "outputs": [],
   "source": [
    "\n",
    "train_df, test_df = train_test_split(df, test_size=0.3)\n",
    "#train_df, val_df = train_test_split(train_df, test_size=0.3)"
   ]
  },
  {
   "cell_type": "code",
   "execution_count": null,
   "metadata": {
    "id": "Nsb-fkDjKFyf",
    "outputId": "27e95aa9-d5cb-491d-bcba-9b66ff75440f"
   },
   "outputs": [
    {
     "data": {
      "text/plain": [
       "(7000, 4)"
      ]
     },
     "execution_count": 22,
     "metadata": {},
     "output_type": "execute_result"
    }
   ],
   "source": [
    "train_df.shape"
   ]
  },
  {
   "cell_type": "code",
   "execution_count": null,
   "metadata": {
    "id": "prh0KfxGKFyf",
    "outputId": "c6f94e69-3dbd-49cd-c6b0-4e0f9862fed7"
   },
   "outputs": [
    {
     "data": {
      "text/plain": [
       "(3000, 4)"
      ]
     },
     "execution_count": 23,
     "metadata": {},
     "output_type": "execute_result"
    }
   ],
   "source": [
    "test_df.shape"
   ]
  },
  {
   "cell_type": "markdown",
   "metadata": {
    "id": "H23AiZEbKFyf"
   },
   "source": [
    "## 03. Implementation of Logistic Regression\n",
    "### Training\n",
    "#### Statsmodel's GLM\n",
    "We can use the statsmodels fomula API's Generalized Linear Regression Model, glm, with the family setting of binomial (`sm.families.Binomial()`) to conduct Logistic Regression.\n",
    "You can refer to the details for the application.\n",
    "\n",
    "Source: http://www.science.smith.edu/~jcrouser/SDS293/labs/lab4-py.html\n",
    "\n",
    "Also, here is the link for the documentation of the API.\n",
    "\n",
    "Documentation: https://www.statsmodels.org/dev/examples/notebooks/generated/glm_formula.html\n",
    "\n"
   ]
  },
  {
   "cell_type": "code",
   "execution_count": null,
   "metadata": {
    "id": "cu6dFVb0KFyg"
   },
   "outputs": [],
   "source": [
    "import statsmodels.api as sm\n",
    "import statsmodels.formula.api as smf\n"
   ]
  },
  {
   "cell_type": "markdown",
   "metadata": {
    "id": "5zmDp-4KKFyg"
   },
   "source": [
    "Define Logistic Regression Function using Generalized Linear Regression Model."
   ]
  },
  {
   "cell_type": "code",
   "execution_count": null,
   "metadata": {
    "id": "9idiQkH9KFyg"
   },
   "outputs": [],
   "source": [
    "\n",
    "def logistic(data, formula):\n",
    "    model = smf.glm(formula = formula, data=data, family=sm.families.Binomial())\n",
    "    result = model.fit()\n",
    "    summary=result.summary()\n",
    "    return summary, result\n"
   ]
  },
  {
   "cell_type": "markdown",
   "metadata": {
    "id": "KCAfAHd7KFyg"
   },
   "source": [
    "Let's train \"Model 1\".  "
   ]
  },
  {
   "cell_type": "code",
   "execution_count": null,
   "metadata": {
    "id": "ek__R9dZKFyg"
   },
   "outputs": [],
   "source": [
    "Model_1 = 'default ~ balance'\n",
    "\n",
    "Model_1_summary, Model_1_train_result = logistic(train_df, Model_1)"
   ]
  },
  {
   "cell_type": "code",
   "execution_count": null,
   "metadata": {
    "id": "7vIGL9oqKFyh",
    "outputId": "df65b5ad-9876-436f-c4fc-b130c985075f"
   },
   "outputs": [
    {
     "data": {
      "text/plain": [
       "<statsmodels.genmod.generalized_linear_model.GLMResultsWrapper at 0x15aedaf76c8>"
      ]
     },
     "execution_count": 27,
     "metadata": {},
     "output_type": "execute_result"
    }
   ],
   "source": [
    "Model_1_train_result"
   ]
  },
  {
   "cell_type": "code",
   "execution_count": null,
   "metadata": {
    "id": "a_ixA2E2KFyh",
    "outputId": "a264ffa3-8b1f-4f12-8c0b-4f6aa4717799",
    "scrolled": false
   },
   "outputs": [
    {
     "name": "stdout",
     "output_type": "stream",
     "text": [
      "                 Generalized Linear Model Regression Results                  \n",
      "==============================================================================\n",
      "Dep. Variable:                default   No. Observations:                 7000\n",
      "Model:                            GLM   Df Residuals:                     6998\n",
      "Model Family:                Binomial   Df Model:                            1\n",
      "Link Function:                  logit   Scale:                          1.0000\n",
      "Method:                          IRLS   Log-Likelihood:                -590.80\n",
      "Date:                Tue, 13 Dec 2022   Deviance:                       1181.6\n",
      "Time:                        10:37:32   Pearson chi2:                 5.36e+03\n",
      "No. Iterations:                     9                                         \n",
      "Covariance Type:            nonrobust                                         \n",
      "==============================================================================\n",
      "                 coef    std err          z      P>|z|      [0.025      0.975]\n",
      "------------------------------------------------------------------------------\n",
      "Intercept    -10.2946      0.407    -25.293      0.000     -11.092      -9.497\n",
      "balance        0.0053      0.000     21.230      0.000       0.005       0.006\n",
      "==============================================================================\n"
     ]
    }
   ],
   "source": [
    "print(Model_1_summary)"
   ]
  },
  {
   "cell_type": "markdown",
   "metadata": {
    "id": "nli-igPiKFyh"
   },
   "source": [
    "The trained model is as follows:\n",
    "\n",
    "> Prob[default] =  σ(0.0054 * balance - 10.4324)  (Model 1 Formula)\n",
    "where σ represents Sigmoid (logistic function), which is the inverse of the logit function.\n",
    "\n",
    "The interpretation of the statistical results\n",
    "\n",
    "1) Intercept:\n",
    "\n",
    "- z-score of the intercept (-25.313) is negative and its absolute value is very large.\n",
    "- p-value is negligible\n",
    "\n",
    "2) Balance:\n",
    "\n",
    "- z-score of `balance` (21.411) is positive and its absolute value is very large. \n",
    "- p-value is negligible\n",
    "\n",
    "The statistical significances of the results are sound for both the intercept and the independent variable.\n",
    "\n",
    "There is no reason to reject the regression result above (Model 1 Formula).\n",
    "\n",
    "Reference: https://pro.arcgis.com/en/pro-app/latest/tool-reference/spatial-statistics/what-is-a-z-score-what-is-a-p-value.htm\n"
   ]
  },
  {
   "cell_type": "markdown",
   "metadata": {
    "id": "yVyXz7qmKFyh"
   },
   "source": [
    "Let's train \"Model 3\".  "
   ]
  },
  {
   "cell_type": "code",
   "execution_count": null,
   "metadata": {
    "id": "zeZQSqBIKFyh"
   },
   "outputs": [],
   "source": [
    "Model_3 = 'default ~ balance + student'\n",
    "\n",
    "Model_3_summary, Model_3_train_result = logistic(train_df, Model_3)"
   ]
  },
  {
   "cell_type": "code",
   "execution_count": null,
   "metadata": {
    "id": "m9oq_zOsKFyi",
    "outputId": "a6db5e51-3813-430b-aede-d51977e19525"
   },
   "outputs": [
    {
     "name": "stdout",
     "output_type": "stream",
     "text": [
      "                 Generalized Linear Model Regression Results                  \n",
      "==============================================================================\n",
      "Dep. Variable:                default   No. Observations:                 7000\n",
      "Model:                            GLM   Df Residuals:                     6997\n",
      "Model Family:                Binomial   Df Model:                            2\n",
      "Link Function:                  logit   Scale:                          1.0000\n",
      "Method:                          IRLS   Log-Likelihood:                -580.19\n",
      "Date:                Tue, 13 Dec 2022   Deviance:                       1160.4\n",
      "Time:                        10:37:32   Pearson chi2:                 5.19e+03\n",
      "No. Iterations:                     9                                         \n",
      "Covariance Type:            nonrobust                                         \n",
      "==============================================================================\n",
      "                 coef    std err          z      P>|z|      [0.025      0.975]\n",
      "------------------------------------------------------------------------------\n",
      "Intercept    -10.4081      0.418    -24.904      0.000     -11.227      -9.589\n",
      "balance        0.0056      0.000     21.026      0.000       0.005       0.006\n",
      "student       -0.7729      0.173     -4.471      0.000      -1.112      -0.434\n",
      "==============================================================================\n"
     ]
    }
   ],
   "source": [
    "print(Model_3_summary)"
   ]
  },
  {
   "cell_type": "markdown",
   "metadata": {
    "id": "kzz-slMuKFyi"
   },
   "source": [
    "The trained model is as follows:\n",
    "\n",
    "> Prob[default] = σ(0.0056 * balance - 0.697 * student- 10.5308) (Model 3 Formula)\n",
    "\n",
    "where σ represents Sigmoid (logistic function), which is the inverse of the logit function.\n",
    "\n",
    "The interpretation of the statistical results\n",
    "\n",
    "1) Intercept:\n",
    "\n",
    "- z-score of the intercept (-25.009) is negative and its absolute value is very large.\n",
    "- p-value is negligible\n",
    "\n",
    "2) Balance:\n",
    "\n",
    "- z-score of `balance` (21.239) is positive and its absolute value is very large. \n",
    "- p-value is negligible\n",
    "\n",
    "3) Student:\n",
    "\n",
    "- z-score of `student` (-4.104) is positive and its absolute value is sufficiently large. \n",
    "- p-value is negligible\n",
    "\n",
    "The statistical significances of the results are sound for the intercept and these two independent variables.\n",
    "\n",
    "There is no reason to reject the regression result above (Model 3 Formula).\n",
    "\n",
    "Reference: https://pro.arcgis.com/en/pro-app/latest/tool-reference/spatial-statistics/what-is-a-z-score-what-is-a-p-value.htm\n"
   ]
  },
  {
   "cell_type": "markdown",
   "metadata": {},
   "source": [
    "## ROC\n",
    "\n",
    "ROC curve visually displays the ability of a binary classification model to correctly separate positives and negatives. An ROC curve is a graph of true positive rate on the Y-axis and false positive rate on the X-axis. \n",
    "True positive rate is also called ‘recall’ and calculated based on the following formula:\n",
    "> True Positive Rate/Recall=(True Positives)/(True Positives+False Negatives)\n",
    "\n",
    "False positive rate is calculated based on the following formula:\n",
    "\n",
    "> False Positive Rate=(False Positives)/(False Positives+True Negatives)\n",
    "\n",
    ">“The shape of an ROC curve suggests a binary classification model's ability to separate positive classes from negative classes.”   (Google Developers, n.d.)\n",
    "https://developers.google.com/machine-learning/glossary#roc-receiver-operating-characteristic-curve\n",
    "\n"
   ]
  },
  {
   "cell_type": "markdown",
   "metadata": {},
   "source": [
    "\n",
    "## AUC: Area under the ROC curve \n",
    "\n",
    "As a binary classification model improves its ability to correctly separate positives and negatives, the area under the ROC curve above approaches 1.0. \n",
    "In this sense, the area under the ROC curve summarises the result of ROC curve and measures the ability of a binary classification model to correctly separate positives and negatives.\n"
   ]
  },
  {
   "cell_type": "markdown",
   "metadata": {
    "id": "rw6PZbfrKFyj"
   },
   "source": [
    "Now split the train dataset into the Feature vector, X_train, and the label, y_train"
   ]
  },
  {
   "cell_type": "code",
   "execution_count": null,
   "metadata": {
    "id": "OVdgdka4KFyj",
    "outputId": "a5b3b2ea-165e-4343-e1eb-e5bf64a55a04"
   },
   "outputs": [
    {
     "data": {
      "text/html": [
       "<div>\n",
       "<style scoped>\n",
       "    .dataframe tbody tr th:only-of-type {\n",
       "        vertical-align: middle;\n",
       "    }\n",
       "\n",
       "    .dataframe tbody tr th {\n",
       "        vertical-align: top;\n",
       "    }\n",
       "\n",
       "    .dataframe thead th {\n",
       "        text-align: right;\n",
       "    }\n",
       "</style>\n",
       "<table border=\"1\" class=\"dataframe\">\n",
       "  <thead>\n",
       "    <tr style=\"text-align: right;\">\n",
       "      <th></th>\n",
       "      <th>default</th>\n",
       "    </tr>\n",
       "  </thead>\n",
       "  <tbody>\n",
       "    <tr>\n",
       "      <th>1202</th>\n",
       "      <td>0</td>\n",
       "    </tr>\n",
       "    <tr>\n",
       "      <th>2335</th>\n",
       "      <td>0</td>\n",
       "    </tr>\n",
       "    <tr>\n",
       "      <th>8785</th>\n",
       "      <td>0</td>\n",
       "    </tr>\n",
       "    <tr>\n",
       "      <th>9294</th>\n",
       "      <td>0</td>\n",
       "    </tr>\n",
       "    <tr>\n",
       "      <th>6827</th>\n",
       "      <td>0</td>\n",
       "    </tr>\n",
       "  </tbody>\n",
       "</table>\n",
       "</div>"
      ],
      "text/plain": [
       "      default\n",
       "1202        0\n",
       "2335        0\n",
       "8785        0\n",
       "9294        0\n",
       "6827        0"
      ]
     },
     "execution_count": 31,
     "metadata": {},
     "output_type": "execute_result"
    }
   ],
   "source": [
    "X_train = train_df[[\"student\", \"balance\", \"income\"]]\n",
    "y_train = train_df[[\"default\"]]\n",
    "y_train.head()"
   ]
  },
  {
   "cell_type": "markdown",
   "metadata": {
    "id": "MeMenJbuKFyj"
   },
   "source": [
    "Now split the test dataset into the Feature vector, X_test, and the label, y_test\n"
   ]
  },
  {
   "cell_type": "code",
   "execution_count": null,
   "metadata": {
    "id": "_PWh18TJKFyj",
    "outputId": "53bfdfb9-86b0-41d0-a377-dcf4cdd57651",
    "scrolled": false
   },
   "outputs": [
    {
     "data": {
      "text/html": [
       "<div>\n",
       "<style scoped>\n",
       "    .dataframe tbody tr th:only-of-type {\n",
       "        vertical-align: middle;\n",
       "    }\n",
       "\n",
       "    .dataframe tbody tr th {\n",
       "        vertical-align: top;\n",
       "    }\n",
       "\n",
       "    .dataframe thead th {\n",
       "        text-align: right;\n",
       "    }\n",
       "</style>\n",
       "<table border=\"1\" class=\"dataframe\">\n",
       "  <thead>\n",
       "    <tr style=\"text-align: right;\">\n",
       "      <th></th>\n",
       "      <th>default</th>\n",
       "    </tr>\n",
       "  </thead>\n",
       "  <tbody>\n",
       "    <tr>\n",
       "      <th>5195</th>\n",
       "      <td>0</td>\n",
       "    </tr>\n",
       "    <tr>\n",
       "      <th>9549</th>\n",
       "      <td>0</td>\n",
       "    </tr>\n",
       "    <tr>\n",
       "      <th>3082</th>\n",
       "      <td>0</td>\n",
       "    </tr>\n",
       "    <tr>\n",
       "      <th>9343</th>\n",
       "      <td>0</td>\n",
       "    </tr>\n",
       "    <tr>\n",
       "      <th>6961</th>\n",
       "      <td>0</td>\n",
       "    </tr>\n",
       "  </tbody>\n",
       "</table>\n",
       "</div>"
      ],
      "text/plain": [
       "      default\n",
       "5195        0\n",
       "9549        0\n",
       "3082        0\n",
       "9343        0\n",
       "6961        0"
      ]
     },
     "execution_count": 32,
     "metadata": {},
     "output_type": "execute_result"
    }
   ],
   "source": [
    "X_test = test_df[[\"student\", \"balance\", \"income\"]]\n",
    "y_test = test_df[[\"default\"]]\n",
    "y_test.head()"
   ]
  },
  {
   "cell_type": "markdown",
   "metadata": {
    "id": "zch7Dz8tKFyj"
   },
   "source": [
    "#### 2) Validate \"Model 1\" to the test dataset "
   ]
  },
  {
   "cell_type": "code",
   "execution_count": null,
   "metadata": {
    "id": "esJLrKC4KFyj"
   },
   "outputs": [],
   "source": [
    "X_train_M1 =X_train[['balance']]\n",
    "X_test_M1 =X_test[['balance']]\n",
    "Predictions_M1 = Model_1_train_result.predict(X_test_M1)"
   ]
  },
  {
   "cell_type": "code",
   "execution_count": null,
   "metadata": {
    "id": "97EoTavqKFyk"
   },
   "outputs": [],
   "source": [
    "def plot_cm(labels, predictions, p, model):\n",
    "  cm = confusion_matrix(labels, predictions > p)\n",
    "  plt.figure(figsize=(5,5))\n",
    "  sns.heatmap(cm, annot=True, fmt=\"d\")\n",
    "  plt.title('{}: Confusion matrix @{:.2f}'.format(model, p))\n",
    "  plt.ylabel('Actual label')\n",
    "  plt.xlabel('Predicted label')\n",
    "\n",
    "  print('Non-Default Correctly Detected (True Negatives): ', cm[0][0])\n",
    "  print('Non-Default Incorrectly Detected (False Positives): ', cm[0][1])\n",
    "  print('Default Missed (False Negatives): ', cm[1][0])\n",
    "  print('Default Correctly Detected (True Positives): ', cm[1][1])\n",
    "  print('Total Default Cases: ', np.sum(cm[1]))\n",
    "  print('True Positive Rate (Recall): {:.4f}'.format(cm[1][1]/(cm[1][1]+cm[1][0])))\n",
    "  print('False Positive Rate: {:.4f}'.format(cm[0][1]/(cm[0][1]+cm[0][0])))  "
   ]
  },
  {
   "cell_type": "code",
   "execution_count": null,
   "metadata": {
    "id": "_JAu89ZfKFyk",
    "outputId": "1dd1e88d-c916-44c9-8834-429cf5f75744"
   },
   "outputs": [
    {
     "name": "stdout",
     "output_type": "stream",
     "text": [
      "Non-Default Correctly Detected (True Negatives):  2897\n",
      "Non-Default Incorrectly Detected (False Positives):  12\n",
      "Default Missed (False Negatives):  61\n",
      "Default Correctly Detected (True Positives):  30\n",
      "Total Default Cases:  91\n",
      "True Positive Rate (Recall): 0.3297\n",
      "False Positive Rate: 0.0041\n"
     ]
    },
    {
     "data": {
      "image/png": "[encoded data removed]",
      "text/plain": [
       "<Figure size 500x500 with 2 Axes>"
      ]
     },
     "metadata": {},
     "output_type": "display_data"
    }
   ],
   "source": [
    "plot_cm(y_test, Predictions_M1, p=0.5, model=\"Model 1\")"
   ]
  },
  {
   "cell_type": "code",
   "execution_count": null,
   "metadata": {
    "id": "naxeQCdzKFyk"
   },
   "outputs": [],
   "source": [
    "def plot_roc(train_test, labels, predictions, **kwargs):\n",
    "  fpr, tpr, _ = sklearn.metrics.roc_curve(labels, predictions)\n",
    "  roc_auc = auc(fpr, tpr)\n",
    "\n",
    "\n",
    "  #plt.plot(100*fp, 100*tp, label=name, linewidth=2, **kwargs)\n",
    "  plt.plot(fpr, tpr, label=\"{} ROC curve (AUC = {:0.2f})\".format(train_test, roc_auc), linewidth=2, **kwargs)\n",
    "#  plt.plot(fpr[::10], tpr[::10], marker='h') \n",
    "  plt.xlabel('1-Specificity [%]')\n",
    "  plt.ylabel('Sensitivity [%]')\n",
    "  plt.xlim([0,1])\n",
    "  plt.ylim([0,1])\n",
    "  plt.grid(True)\n",
    "  ax = plt.gca()\n",
    "  ax.set_aspect('equal')  "
   ]
  },
  {
   "cell_type": "code",
   "execution_count": null,
   "metadata": {
    "id": "Xa1AD-0lKFyk",
    "outputId": "852b0448-13cd-42db-b278-aedab1983de8",
    "scrolled": false
   },
   "outputs": [
    {
     "data": {
      "image/png": "[encoded data removed]",
      "text/plain": [
       "<Figure size 640x480 with 1 Axes>"
      ]
     },
     "metadata": {},
     "output_type": "display_data"
    }
   ],
   "source": [
    "plot_roc(train_test= \"Model_1 train\", labels=y_train, predictions=Model_1_train_result.predict(X_train_M1))\n",
    "plot_roc(train_test= \"Model_1 test\", labels=y_test, predictions=Predictions_M1, linestyle='--')\n",
    "plt.legend(loc='lower right');"
   ]
  },
  {
   "cell_type": "markdown",
   "metadata": {
    "id": "VdAriL0SKFyk"
   },
   "source": [
    "### 3) Validate \"Model 3\" to the test dataset "
   ]
  },
  {
   "cell_type": "code",
   "execution_count": null,
   "metadata": {
    "id": "qBbJEwEXKFyk"
   },
   "outputs": [],
   "source": [
    "X_train_M3 =X_train[['balance','student']]\n",
    "X_test_M3 =X_test[['balance','student']]\n",
    "Predictions_M3 = Model_3_train_result.predict(X_test_M3)"
   ]
  },
  {
   "cell_type": "code",
   "execution_count": null,
   "metadata": {
    "id": "7gF2s1YZKFyl",
    "outputId": "01b8e971-fd64-4b2f-8438-36404f40277a",
    "scrolled": false
   },
   "outputs": [
    {
     "name": "stdout",
     "output_type": "stream",
     "text": [
      "Non-Default Correctly Detected (True Negatives):  2896\n",
      "Non-Default Incorrectly Detected (False Positives):  13\n",
      "Default Missed (False Negatives):  59\n",
      "Default Correctly Detected (True Positives):  32\n",
      "Total Default Cases:  91\n",
      "True Positive Rate (Recall): 0.3516\n",
      "False Positive Rate: 0.0045\n"
     ]
    },
    {
     "data": {
      "image/png": "[encoded data removed]",
      "text/plain": [
       "<Figure size 500x500 with 2 Axes>"
      ]
     },
     "metadata": {},
     "output_type": "display_data"
    }
   ],
   "source": [
    "plot_cm(y_test, Predictions_M3, p=0.5, model=\"Model 3\")"
   ]
  },
  {
   "cell_type": "code",
   "execution_count": null,
   "metadata": {
    "id": "K3joJXWQKFyl",
    "outputId": "44e6d02b-3faf-4fa6-b07f-1c043717dba8"
   },
   "outputs": [
    {
     "data": {
      "image/png": "[encoded data removed]",
      "text/plain": [
       "<Figure size 640x480 with 1 Axes>"
      ]
     },
     "metadata": {},
     "output_type": "display_data"
    }
   ],
   "source": [
    "plot_roc(train_test= \"Model_3 train\", labels=y_train, predictions=Model_3_train_result.predict(X_train_M3))\n",
    "plot_roc(train_test= \"Model_3 test\", labels=y_test, predictions=Predictions_M3, linestyle='--')\n",
    "plt.legend(loc='lower right');"
   ]
  },
  {
   "cell_type": "markdown",
   "metadata": {
    "id": "1KZe-65NKFyl"
   },
   "source": [
    "# <font color=red> End"
   ]
  }
 ],
 "metadata": {
  "colab": {
   "provenance": []
  },
  "kernelspec": {
   "display_name": "Python 3",
   "language": "python",
   "name": "python3"
  },
  "language_info": {
   "codemirror_mode": {
    "name": "ipython",
    "version": 3
   },
   "file_extension": ".py",
   "mimetype": "text/x-python",
   "name": "python",
   "nbconvert_exporter": "python",
   "pygments_lexer": "ipython3",
   "version": "3.7.6"
  }
 },
 "nbformat": 4,
 "nbformat_minor": 1
}
